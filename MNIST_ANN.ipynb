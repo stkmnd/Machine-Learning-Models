{
  "nbformat": 4,
  "nbformat_minor": 0,
  "metadata": {
    "colab": {
      "name": "MNIST_ANN.ipynb",
      "provenance": [],
      "collapsed_sections": []
    },
    "kernelspec": {
      "name": "python3",
      "display_name": "Python 3"
    },
    "language_info": {
      "name": "python"
    },
    "accelerator": "GPU",
    "gpuClass": "standard"
  },
  "cells": [
    {
      "cell_type": "code",
      "execution_count": 20,
      "metadata": {
        "colab": {
          "base_uri": "https://localhost:8080/"
        },
        "id": "ykksxFLXp4pi",
        "outputId": "7a72a535-8e4d-4395-89ab-1277e04db1da"
      },
      "outputs": [
        {
          "output_type": "stream",
          "name": "stdout",
          "text": [
            "1.12.0+cu113\n"
          ]
        }
      ],
      "source": [
        "import torch\n",
        "print(torch.__version__)"
      ]
    },
    {
      "cell_type": "code",
      "source": [
        "# Download dataset from MNIST library\n",
        "import torchvision\n",
        "from torchvision.datasets import MNIST\n",
        "\n",
        "dataset = MNIST(root='data/', download=True, transform=torchvision.transforms.ToTensor())"
      ],
      "metadata": {
        "id": "ibfAI9A9e_wf"
      },
      "execution_count": 21,
      "outputs": []
    },
    {
      "cell_type": "code",
      "source": [
        "# Plot the first image in the dataset\n",
        "import matplotlib.pyplot as plt\n",
        "image, label = dataset[0]\n",
        "plt.imshow(image[0], cmap='gray')\n",
        "plt.show()\n",
        "print(label)"
      ],
      "metadata": {
        "colab": {
          "base_uri": "https://localhost:8080/",
          "height": 282
        },
        "id": "q67nBDGVffMS",
        "outputId": "da78a9a3-c372-4f44-c758-7207569a2fc6"
      },
      "execution_count": 22,
      "outputs": [
        {
          "output_type": "display_data",
          "data": {
            "text/plain": [
              "<Figure size 432x288 with 1 Axes>"
            ],
            "image/png": "[encoded data removed]"
          },
          "metadata": {
            "needs_background": "light"
          }
        },
        {
          "output_type": "stream",
          "name": "stdout",
          "text": [
            "5\n"
          ]
        }
      ]
    },
    {
      "cell_type": "code",
      "source": [
        "# Split data into training and validation sets\n",
        "trainData, valData = torch.utils.data.random_split(dataset, [50000, 10000])\n",
        "print(len(trainData), len(valData))"
      ],
      "metadata": {
        "colab": {
          "base_uri": "https://localhost:8080/"
        },
        "id": "8tFJYro3f2Bp",
        "outputId": "96d31ec9-2469-45ac-f358-67ec1842b69a"
      },
      "execution_count": 23,
      "outputs": [
        {
          "output_type": "stream",
          "name": "stdout",
          "text": [
            "50000 10000\n"
          ]
        }
      ]
    },
    {
      "cell_type": "code",
      "source": [
        "# Initialize data loaders for training and validation data\n",
        "trainDataLoader = torch.utils.data.DataLoader(trainData, batch_size=100, shuffle=True)\n",
        "valDataLoader = torch.utils.data.DataLoader(valData, batch_size=100, shuffle=True)"
      ],
      "metadata": {
        "id": "n2NuQxe7gHPr"
      },
      "execution_count": 24,
      "outputs": []
    },
    {
      "cell_type": "markdown",
      "source": [
        "# **Artificial Neural Network Model**"
      ],
      "metadata": {
        "id": "6_8MPPIU4G58"
      }
    },
    {
      "cell_type": "code",
      "source": [
        "import torch.nn as nn\n",
        "\n",
        "class ArtificialNeuralNetwork(nn.Module):\n",
        "  def __init__(self, inputSize, hiddenLayerSize, outputSize):\n",
        "    super().__init__()\n",
        "    self.linear1 = nn.Linear(inputSize, hiddenLayerSize)\n",
        "    self.linear2 = nn.Linear(hiddenLayerSize, outputSize)\n",
        "  \n",
        "  def forward(self, x):\n",
        "    x = x.view(x.size(0), -1)\n",
        "    y = self.linear1(x)\n",
        "    y = nn.functional.relu(y)\n",
        "    y = self.linear2(y)\n",
        "    return y"
      ],
      "metadata": {
        "id": "UnPlfCPLhHiA"
      },
      "execution_count": 25,
      "outputs": []
    },
    {
      "cell_type": "code",
      "source": [
        "inputSize = 784\n",
        "hiddenLayerSize = 32\n",
        "outputSize = 10\n",
        "\n",
        "model = ArtificialNeuralNetwork(inputSize, hiddenLayerSize, outputSize)\n",
        "\n",
        "for layer in model.parameters():\n",
        "  print(layer.shape)"
      ],
      "metadata": {
        "colab": {
          "base_uri": "https://localhost:8080/"
        },
        "id": "hONcXRakt8qq",
        "outputId": "c75e7b38-475e-4fd8-c948-77db5ce5c13b"
      },
      "execution_count": 26,
      "outputs": [
        {
          "output_type": "stream",
          "name": "stdout",
          "text": [
            "torch.Size([32, 784])\n",
            "torch.Size([32])\n",
            "torch.Size([10, 32])\n",
            "torch.Size([10])\n"
          ]
        }
      ]
    },
    {
      "cell_type": "markdown",
      "source": [
        "# **Training the Model**"
      ],
      "metadata": {
        "id": "fiFUnNSB4S2K"
      }
    },
    {
      "cell_type": "code",
      "source": [
        "import numpy as np\n",
        "\n",
        "def train(model, train_loader, learning_rate, epochs, opt_fun=torch.optim.SGD):\n",
        "  optimizer = opt_fun(model.parameters(), learning_rate)\n",
        "  for epoch in range(epochs):\n",
        "    lossVals = []\n",
        "    for batch in train_loader:\n",
        "      images, labels = batch\n",
        "      predictedLabels = model(images)\n",
        "      loss = nn.functional.cross_entropy(predictedLabels, labels)\n",
        "      loss.backward()\n",
        "      optimizer.step()\n",
        "      optimizer.zero_grad()\n",
        "      lossVals.append(loss.item())\n",
        "    \n",
        "    meanLoss = np.array(lossVals)\n",
        "    meanLoss = np.mean(meanLoss)\n",
        "    print('epoch [{}]: loss = {}'.format(epoch + 1, meanLoss))\n",
        "  \n",
        "  print('Model has been trained.')"
      ],
      "metadata": {
        "id": "Lud7qQo13cO8"
      },
      "execution_count": 27,
      "outputs": []
    },
    {
      "cell_type": "code",
      "source": [
        "train(model, trainDataLoader, 0.1, 20)"
      ],
      "metadata": {
        "colab": {
          "base_uri": "https://localhost:8080/"
        },
        "id": "bH9aqe3p5T67",
        "outputId": "7c323819-7740-48cd-eb9c-8bbfd34a8e29"
      },
      "execution_count": 28,
      "outputs": [
        {
          "output_type": "stream",
          "name": "stdout",
          "text": [
            "epoch [1]: loss = 0.5809274967014789\n",
            "epoch [2]: loss = 0.3018202460706234\n",
            "epoch [3]: loss = 0.2606301404386759\n",
            "epoch [4]: loss = 0.22899931165575982\n",
            "epoch [5]: loss = 0.20297725833952426\n",
            "epoch [6]: loss = 0.18333931542187928\n",
            "epoch [7]: loss = 0.16898160803318024\n",
            "epoch [8]: loss = 0.15625277004018426\n",
            "epoch [9]: loss = 0.1464582878574729\n",
            "epoch [10]: loss = 0.13856759721040726\n",
            "epoch [11]: loss = 0.13091872162744403\n",
            "epoch [12]: loss = 0.1243925538994372\n",
            "epoch [13]: loss = 0.11833941179141402\n",
            "epoch [14]: loss = 0.11292070300132036\n",
            "epoch [15]: loss = 0.10839540053904057\n",
            "epoch [16]: loss = 0.10448592339083553\n",
            "epoch [17]: loss = 0.10067031091451645\n",
            "epoch [18]: loss = 0.09732563017681241\n",
            "epoch [19]: loss = 0.09362224443629384\n",
            "epoch [20]: loss = 0.08993559738993645\n",
            "Model has been trained.\n"
          ]
        }
      ]
    },
    {
      "cell_type": "markdown",
      "source": [
        "# **Validating the Model**"
      ],
      "metadata": {
        "id": "vCTtkuw44Zey"
      }
    },
    {
      "cell_type": "code",
      "source": [
        "# Computes the accuracy of the model\n",
        "def accuracy(output, labels):\n",
        "  _, predictions = torch.max(output, dim=1)\n",
        "  return torch.tensor(torch.sum(predictions == labels).item() / len(predictions))"
      ],
      "metadata": {
        "id": "FdzckwcK6v1M"
      },
      "execution_count": 31,
      "outputs": []
    },
    {
      "cell_type": "code",
      "source": [
        "def testing(model, val_loader):\n",
        "  valArray = []\n",
        "  for batch in val_loader:\n",
        "    images, labels = batch\n",
        "    predictedLabels = model(images)\n",
        "    valArray.append(accuracy(predictedLabels, labels).item())\n",
        "  \n",
        "  valArray = np.array(valArray)\n",
        "  meanAccuracy = np.mean(valArray)\n",
        "\n",
        "  return meanAccuracy"
      ],
      "metadata": {
        "id": "VOn-PUZ27CSb"
      },
      "execution_count": 48,
      "outputs": []
    },
    {
      "cell_type": "code",
      "source": [
        "validationAccuracy = testing(model, valDataLoader)\n",
        "validationAccuracy"
      ],
      "metadata": {
        "colab": {
          "base_uri": "https://localhost:8080/"
        },
        "id": "xc9RodTW7zya",
        "outputId": "e9b08b9a-ef65-4d36-daf5-6c60d967f457"
      },
      "execution_count": 49,
      "outputs": [
        {
          "output_type": "execute_result",
          "data": {
            "text/plain": [
              "0.9631000053882599"
            ]
          },
          "metadata": {},
          "execution_count": 49
        }
      ]
    },
    {
      "cell_type": "markdown",
      "source": [
        "# **Testing the Model on a test set**"
      ],
      "metadata": {
        "id": "7yGaeXu34e3d"
      }
    },
    {
      "cell_type": "code",
      "source": [
        "testDataset = MNIST(root='data/', train=False, transform=torchvision.transforms.ToTensor())\n",
        "len(testDataset)"
      ],
      "metadata": {
        "colab": {
          "base_uri": "https://localhost:8080/"
        },
        "id": "owrpZ8pv8Qfj",
        "outputId": "1860f671-9c6a-4989-f92d-9c64e7e58b9d"
      },
      "execution_count": 50,
      "outputs": [
        {
          "output_type": "execute_result",
          "data": {
            "text/plain": [
              "10000"
            ]
          },
          "metadata": {},
          "execution_count": 50
        }
      ]
    },
    {
      "cell_type": "code",
      "source": [
        "testDataLoader = torch.utils.data.DataLoader(testDataset, batch_size=100, shuffle=True)"
      ],
      "metadata": {
        "id": "UZnR1TtY8q-t"
      },
      "execution_count": 51,
      "outputs": []
    },
    {
      "cell_type": "code",
      "source": [
        "testingAccuracy = testing(model, testDataLoader)\n",
        "testingAccuracy"
      ],
      "metadata": {
        "colab": {
          "base_uri": "https://localhost:8080/"
        },
        "id": "MhedECKt9jNr",
        "outputId": "94af1211-171e-42b7-98dd-3d12027dfceb"
      },
      "execution_count": 52,
      "outputs": [
        {
          "output_type": "execute_result",
          "data": {
            "text/plain": [
              "0.964700003862381"
            ]
          },
          "metadata": {},
          "execution_count": 52
        }
      ]
    },
    {
      "cell_type": "markdown",
      "source": [
        "The validation set accuracy (**96.3%**) and test set accuracy (**96.5%**) are approximately equal. This suggests that the hyperparameters have been tuned properly, and the model is also able to generalize itself to unseen or new data."
      ],
      "metadata": {
        "id": "WlyC_k5H2p51"
      }
    }
  ]
}