{
  "nbformat": 4,
  "nbformat_minor": 0,
  "metadata": {
    "colab": {
      "name": "MNIST_Logisitic Regression.ipynb",
      "provenance": [],
      "collapsed_sections": []
    },
    "kernelspec": {
      "name": "python3",
      "display_name": "Python 3"
    },
    "language_info": {
      "name": "python"
    }
  },
  "cells": [
    {
      "cell_type": "code",
      "execution_count": 49,
      "metadata": {
        "colab": {
          "base_uri": "https://localhost:8080/"
        },
        "id": "L-EzKn16jvyR",
        "outputId": "a322dc52-860d-4304-ae67-4d418832df26"
      },
      "outputs": [
        {
          "output_type": "stream",
          "name": "stdout",
          "text": [
            "1.12.0+cu113\n"
          ]
        }
      ],
      "source": [
        "import torch\n",
        "print(torch.__version__)"
      ]
    },
    {
      "cell_type": "code",
      "source": [
        "import torchvision\n",
        "from torchvision.datasets import MNIST"
      ],
      "metadata": {
        "id": "55rUGdujk_We"
      },
      "execution_count": 50,
      "outputs": []
    },
    {
      "cell_type": "code",
      "source": [
        "# Download dataset from MNIST library\n",
        "dataset = MNIST(root='data/', download=True)"
      ],
      "metadata": {
        "id": "8J5s1liklFnb"
      },
      "execution_count": 51,
      "outputs": []
    },
    {
      "cell_type": "code",
      "source": [
        "dataset[0]"
      ],
      "metadata": {
        "colab": {
          "base_uri": "https://localhost:8080/"
        },
        "id": "G-wvgU9mlYhc",
        "outputId": "6c318d30-7ac6-4c1b-daf7-1737aef35c20"
      },
      "execution_count": 4,
      "outputs": [
        {
          "output_type": "execute_result",
          "data": {
            "text/plain": [
              "(<PIL.Image.Image image mode=L size=28x28 at 0x7F7C337FBB50>, 5)"
            ]
          },
          "metadata": {},
          "execution_count": 4
        }
      ]
    },
    {
      "cell_type": "code",
      "source": [
        "# Plot the first image in the dataset\n",
        "import matplotlib.pyplot as plt\n",
        "image, label = dataset[0]\n",
        "plt.imshow(image)\n",
        "print(label)"
      ],
      "metadata": {
        "colab": {
          "base_uri": "https://localhost:8080/",
          "height": 282
        },
        "id": "s-DiSDUOldSB",
        "outputId": "5cb22238-4dd7-42db-b171-3cf6b2deced5"
      },
      "execution_count": 52,
      "outputs": [
        {
          "output_type": "stream",
          "name": "stdout",
          "text": [
            "5\n"
          ]
        },
        {
          "output_type": "display_data",
          "data": {
            "text/plain": [
              "<Figure size 432x288 with 1 Axes>"
            ],
            "image/png": "[encoded data removed]"
          },
          "metadata": {
            "needs_background": "light"
          }
        }
      ]
    },
    {
      "cell_type": "code",
      "source": [
        "dataset = MNIST(root='data/', train=True, transform=torchvision.transforms.ToTensor())"
      ],
      "metadata": {
        "id": "6RSzMsltl0SI"
      },
      "execution_count": 53,
      "outputs": []
    },
    {
      "cell_type": "code",
      "source": [
        "dataset[0][0].shape"
      ],
      "metadata": {
        "colab": {
          "base_uri": "https://localhost:8080/"
        },
        "id": "mkDpDnU-nHIz",
        "outputId": "d9bf27dc-2a44-42ee-c4d8-e2d2a4c88f28"
      },
      "execution_count": 54,
      "outputs": [
        {
          "output_type": "execute_result",
          "data": {
            "text/plain": [
              "torch.Size([1, 28, 28])"
            ]
          },
          "metadata": {},
          "execution_count": 54
        }
      ]
    },
    {
      "cell_type": "code",
      "source": [
        "# Split data into training and validation sets\n",
        "trainData, valData = torch.utils.data.random_split(dataset, [50000, 10000])\n",
        "print(len(trainData), len(valData))"
      ],
      "metadata": {
        "colab": {
          "base_uri": "https://localhost:8080/"
        },
        "id": "LT7B7CMVnwUY",
        "outputId": "ffe5e885-5d74-48a3-8f38-5b03397689c4"
      },
      "execution_count": 55,
      "outputs": [
        {
          "output_type": "stream",
          "name": "stdout",
          "text": [
            "50000 10000\n"
          ]
        }
      ]
    },
    {
      "cell_type": "code",
      "source": [
        "# Initialize data loaders for training and validation data\n",
        "trainDataLoader = torch.utils.data.DataLoader(trainData, batch_size=100, shuffle=True)\n",
        "valDataLoader = torch.utils.data.DataLoader(trainData, batch_size=100, shuffle=True)"
      ],
      "metadata": {
        "id": "A9k5ZfFtoja5"
      },
      "execution_count": 56,
      "outputs": []
    },
    {
      "cell_type": "markdown",
      "source": [
        "## **Logisitc Regression Model**"
      ],
      "metadata": {
        "id": "OB2bkpWe2I7A"
      }
    },
    {
      "cell_type": "code",
      "source": [
        "import torch.nn as nn\n",
        "\n",
        "class LogisticRegression(nn.Module):\n",
        "  def __init__(self):\n",
        "    super().__init__()\n",
        "    self.linear = nn.Linear(784, 10)\n",
        "  \n",
        "  def forward(self, x):\n",
        "    x = x.reshape(-1, 784)\n",
        "    y = self.linear(x)\n",
        "    return y\n",
        "\n",
        "\n",
        "model = LogisticRegression()\n",
        "model.linear"
      ],
      "metadata": {
        "colab": {
          "base_uri": "https://localhost:8080/"
        },
        "id": "RvUsHQX8pcsv",
        "outputId": "1b01ddf7-49dd-4ec5-bb29-2a60b8eb9e00"
      },
      "execution_count": 57,
      "outputs": [
        {
          "output_type": "execute_result",
          "data": {
            "text/plain": [
              "Linear(in_features=784, out_features=10, bias=True)"
            ]
          },
          "metadata": {},
          "execution_count": 57
        }
      ]
    },
    {
      "cell_type": "code",
      "source": [
        "import numpy as np"
      ],
      "metadata": {
        "id": "IIcYqNBnUzUi"
      },
      "execution_count": 58,
      "outputs": []
    },
    {
      "cell_type": "markdown",
      "source": [
        "# **Training the Model**"
      ],
      "metadata": {
        "id": "OdMbc6g82iqm"
      }
    },
    {
      "cell_type": "code",
      "source": [
        "def train(model, train_loader, learningRate, epochs, opt_func=torch.optim.SGD):\n",
        "  optimizer = opt_func(model.parameters(), learningRate)\n",
        "  for epoch in range(epochs):\n",
        "    lossVals = []\n",
        "    for batch in train_loader:\n",
        "      images, labels = batch\n",
        "      predictedLabels = model(images)\n",
        "      loss = nn.functional.cross_entropy(predictedLabels, labels)\n",
        "      loss.backward()\n",
        "      optimizer.step()\n",
        "      optimizer.zero_grad()\n",
        "      lossVals.append(loss.item())\n",
        "    \n",
        "    meanLoss = np.array(lossVals)\n",
        "    meanLoss = np.mean(meanLoss)\n",
        "    print('epoch [{}]: loss = {}'.format(epoch + 1, meanLoss))\n",
        "\n",
        "    \n",
        "  print('Model has been trained.')"
      ],
      "metadata": {
        "id": "_rcJWtOwrhYS"
      },
      "execution_count": 59,
      "outputs": []
    },
    {
      "cell_type": "code",
      "source": [
        "train(model, trainDataLoader, 0.001, 20)"
      ],
      "metadata": {
        "colab": {
          "base_uri": "https://localhost:8080/"
        },
        "id": "5fV01pVTqOqW",
        "outputId": "025a14e3-0f63-4f48-fa0b-67c5823e5f64"
      },
      "execution_count": 60,
      "outputs": [
        {
          "output_type": "stream",
          "name": "stdout",
          "text": [
            "epoch [1]: loss = 2.086831640481949\n",
            "epoch [2]: loss = 1.7140145514011382\n",
            "epoch [3]: loss = 1.4573479359149932\n",
            "epoch [4]: loss = 1.2768660690784455\n",
            "epoch [5]: loss = 1.146087913274765\n",
            "epoch [6]: loss = 1.0480396589040757\n",
            "epoch [7]: loss = 0.9722254793643952\n",
            "epoch [8]: loss = 0.9119028146266938\n",
            "epoch [9]: loss = 0.8628043911457062\n",
            "epoch [10]: loss = 0.8220056629180909\n",
            "epoch [11]: loss = 0.7875673835277557\n",
            "epoch [12]: loss = 0.7580485674142837\n",
            "epoch [13]: loss = 0.7324520791769028\n",
            "epoch [14]: loss = 0.710017936706543\n",
            "epoch [15]: loss = 0.690166493177414\n",
            "epoch [16]: loss = 0.6724707444906235\n",
            "epoch [17]: loss = 0.6565712810754776\n",
            "epoch [18]: loss = 0.6422096264958381\n",
            "epoch [19]: loss = 0.6291527315378189\n",
            "epoch [20]: loss = 0.6172154567241669\n",
            "Model has been trained.\n"
          ]
        }
      ]
    },
    {
      "cell_type": "markdown",
      "source": [
        "# **Validating the Model**"
      ],
      "metadata": {
        "id": "TepanXGc2wKG"
      }
    },
    {
      "cell_type": "code",
      "source": [
        "# Compute the model's accuracy\n",
        "def accuracy(output, labels):\n",
        "  _, predictions = torch.max(output, dim=1)\n",
        "  return torch.tensor(torch.sum(predictions == labels).item() / len(predictions))"
      ],
      "metadata": {
        "id": "PF9uw1ZfdTWQ"
      },
      "execution_count": 61,
      "outputs": []
    },
    {
      "cell_type": "code",
      "source": [
        "def validate(model, val_loader):\n",
        "\n",
        "  for batch in val_loader:\n",
        "    validationArr = []\n",
        "    images, labels = batch\n",
        "    predictedLabels = model(images)\n",
        "    validationArr.append(accuracy(predictedLabels, labels).item())\n",
        "  \n",
        "  validationArr = np.array(validationArr)\n",
        "  meanAccuracy = np.mean(validationArr)\n",
        "  \n",
        "  return meanAccuracy\n",
        "  "
      ],
      "metadata": {
        "id": "duegJ4FAvd9f"
      },
      "execution_count": 62,
      "outputs": []
    },
    {
      "cell_type": "code",
      "source": [
        "validationAccuracy = validate(model, valDataLoader)\n",
        "validationAccuracy"
      ],
      "metadata": {
        "colab": {
          "base_uri": "https://localhost:8080/"
        },
        "id": "1uRBJzMXrkLX",
        "outputId": "5eb79bff-1fb6-48bd-cfe3-e2cfe88b477d"
      },
      "execution_count": 63,
      "outputs": [
        {
          "output_type": "execute_result",
          "data": {
            "text/plain": [
              "0.8999999761581421"
            ]
          },
          "metadata": {},
          "execution_count": 63
        }
      ]
    },
    {
      "cell_type": "markdown",
      "source": [
        "## **Testing the Model**"
      ],
      "metadata": {
        "id": "H6tOHOph3D5e"
      }
    },
    {
      "cell_type": "code",
      "source": [
        "# Download the test dataset\n",
        "testDataset = MNIST(root='data/', train=False, transform=torchvision.transforms.ToTensor())"
      ],
      "metadata": {
        "id": "9G7yZPEqvhui"
      },
      "execution_count": 64,
      "outputs": []
    },
    {
      "cell_type": "code",
      "source": [
        "# Plot the first image of the test dataset\n",
        "image, label = testDataset[0]\n",
        "plt.imshow(image[0])\n",
        "print(label)"
      ],
      "metadata": {
        "colab": {
          "base_uri": "https://localhost:8080/",
          "height": 282
        },
        "id": "dFqQAiviwDf1",
        "outputId": "2f6e4690-f7cd-43b7-e9cb-ad9086ce3087"
      },
      "execution_count": 65,
      "outputs": [
        {
          "output_type": "stream",
          "name": "stdout",
          "text": [
            "7\n"
          ]
        },
        {
          "output_type": "display_data",
          "data": {
            "text/plain": [
              "<Figure size 432x288 with 1 Axes>"
            ],
            "image/png": "[encoded data removed]"
          },
          "metadata": {
            "needs_background": "light"
          }
        }
      ]
    },
    {
      "cell_type": "code",
      "source": [
        "# Predict the label of an image\n",
        "def predictImage(img, model):\n",
        "  input = img.unsqueeze(0)\n",
        "  predictedLabel = model(input)\n",
        "  _, prediction = torch.max(predictedLabel, dim=1)\n",
        "  return prediction[0].item()"
      ],
      "metadata": {
        "id": "5XZUmoF4y41_"
      },
      "execution_count": 66,
      "outputs": []
    },
    {
      "cell_type": "code",
      "source": [
        "img, label = testDataset[0]\n",
        "plt.imshow(img[0])\n",
        "print('Label:', label, ', Predicted:', predictImage(img, model))"
      ],
      "metadata": {
        "colab": {
          "base_uri": "https://localhost:8080/",
          "height": 282
        },
        "id": "gcm03wefy_hu",
        "outputId": "123426c4-ce3e-4854-c627-ebcd0e0e92c3"
      },
      "execution_count": 70,
      "outputs": [
        {
          "output_type": "stream",
          "name": "stdout",
          "text": [
            "Label: 7 , Predicted: 7\n"
          ]
        },
        {
          "output_type": "display_data",
          "data": {
            "text/plain": [
              "<Figure size 432x288 with 1 Axes>"
            ],
            "image/png": "[encoded data removed]"
          },
          "metadata": {
            "needs_background": "light"
          }
        }
      ]
    },
    {
      "cell_type": "code",
      "source": [
        "img, label = testDataset[120]\n",
        "plt.imshow(img[0])\n",
        "print('Label:', label, ', Predicted:', predictImage(img, model))"
      ],
      "metadata": {
        "colab": {
          "base_uri": "https://localhost:8080/",
          "height": 282
        },
        "id": "f7OUZgv8zTo9",
        "outputId": "3cb00980-bf93-4bbc-8506-83ace1fd4f19"
      },
      "execution_count": 71,
      "outputs": [
        {
          "output_type": "stream",
          "name": "stdout",
          "text": [
            "Label: 5 , Predicted: 5\n"
          ]
        },
        {
          "output_type": "display_data",
          "data": {
            "text/plain": [
              "<Figure size 432x288 with 1 Axes>"
            ],
            "image/png": "[encoded data removed]"
          },
          "metadata": {
            "needs_background": "light"
          }
        }
      ]
    },
    {
      "cell_type": "code",
      "source": [
        "img, label = testDataset[194]\n",
        "plt.imshow(img[0])\n",
        "print('Label:', label, ', Predicted:', predictImage(img, model))"
      ],
      "metadata": {
        "colab": {
          "base_uri": "https://localhost:8080/",
          "height": 282
        },
        "id": "86qxkvN8ze62",
        "outputId": "a314d893-b4c0-45eb-f4d2-66564a0f8038"
      },
      "execution_count": 72,
      "outputs": [
        {
          "output_type": "stream",
          "name": "stdout",
          "text": [
            "Label: 0 , Predicted: 0\n"
          ]
        },
        {
          "output_type": "display_data",
          "data": {
            "text/plain": [
              "<Figure size 432x288 with 1 Axes>"
            ],
            "image/png": "[encoded data removed]"
          },
          "metadata": {
            "needs_background": "light"
          }
        }
      ]
    },
    {
      "cell_type": "markdown",
      "source": [
        "Overall, the model's accuracy as computed on the validation set was approximately **90%**.\n",
        "\n",
        "Increasing the number of epochs would have improved the model's accuracy. However, this could have also made the model suscpetible to overfitting.\n",
        "\n",
        "Moreover, while training the model, the loss was continuously decreasing. This means that a good learning rate (**0.001**) was chosen."
      ],
      "metadata": {
        "id": "iWzBmQrq3nW6"
      }
    }
  ]
}